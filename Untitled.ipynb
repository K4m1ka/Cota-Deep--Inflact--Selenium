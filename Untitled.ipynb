{
  "cells": [
    {
      "cell_type": "markdown",
      "metadata": {
        "id": "view-in-github",
        "colab_type": "text"
      },
      "source": [
        "<a href=\"https://colab.research.google.com/github/K4m1ka/Cota-Deep--Inflact--Selenium/blob/main/Untitled.ipynb\" target=\"_parent\"><img src=\"https://colab.research.google.com/assets/colab-badge.svg\" alt=\"Open In Colab\"/></a>"
      ]
    },
    {
      "cell_type": "code",
      "execution_count": null,
      "metadata": {
        "id": "Wi7U5-mL8YDt"
      },
      "outputs": [],
      "source": [
        "inventario = []\n",
        "resposta = \"S\"\n",
        "while resposta == \"S\":\n",
        "  inventario.append (input(\"Equipamento: \"))\n",
        "  inventario.append (float(input(\"Valor: \")))\n",
        "  inventario.append (int(input(\"Numero Serial: \")))\n",
        "  inventario.append (input(\"Departamento: \"))\n",
        "  resposta= input(\"Dgite \\\"S\\\" para continuar: \").upper()\n",
        "\n",
        "for elemento in inventario:\n",
        "  print(elemento)"
      ]
    },
    {
      "cell_type": "code",
      "execution_count": null,
      "metadata": {
        "id": "CFLyN9MN9WMN"
      },
      "outputs": [],
      "source": [
        "equipamentos = []\n",
        "valores = []\n",
        "serials = []\n",
        "departamentos = []\n",
        "resposta = \"S\"\n",
        "while resposta == \"S\":\n",
        "  equipamentos.append(input(\"Equipamento: \"))\n",
        "  valores.append(input(\"Valor: \"))\n",
        "  serials.append(input(\"serial: \"))\n",
        "  departamentos.append(input(\"Departamento: \"))\n",
        "  resposta = (input(\"Digite \\\"S\\\" para continuar: \")).upper()\n",
        "\n",
        "for indice in range (0,len(equipamentos)):\n",
        "  print(\"\\nEquipamento.....\",(indice+1))\n",
        "  print(\"Nome............\",equipamentos[indice])\n",
        "  print(\"Valor...........\",valores[indice])\n",
        "  print(\"Serial..........\",serials[indice])\n",
        "  print(\"Departamento....\",departamentos[indice])"
      ]
    },
    {
      "cell_type": "code",
      "execution_count": null,
      "metadata": {
        "id": "ekVSrJdnFC7H"
      },
      "outputs": [],
      "source": [
        "nota1 = float(input(\"Nota entre 0 e 10: \"))\n",
        "while (nota1 < 0) or (nota1 > 10):\n",
        "  nota1 = float(input(\"A nota precisa ser maior que 0 e menor que 10 meu fi! \\n \\ tente novamente: \"))\n",
        "print(\"Nota Valida\")"
      ]
    },
    {
      "cell_type": "code",
      "execution_count": null,
      "metadata": {
        "id": "hor17owrI2od"
      },
      "outputs": [],
      "source": [
        "usuario = input(\"Digite o nome de usuario: \")\n",
        "senha = input(\"Digite uma senha: \")\n",
        "\n",
        "while usuario == senha:\n",
        "  print(\"Sua senha deve ser diferente do login: \")\n",
        "  senha = input(\"Digite uma senha: \")\n",
        "\n",
        "print(\"Cadastro aprovado\")"
      ]
    },
    {
      "cell_type": "code",
      "execution_count": null,
      "metadata": {
        "colab": {
          "background_save": true
        },
        "id": "2YxPclxbJ_fz"
      },
      "outputs": [],
      "source": [
        "\n",
        "nome1 = input(\"Digite seu nome[Minimo de 4 caracteres]: \")\n",
        "idade = int(input(\"Digite sua idade: \"))\n",
        "salario = float(input(\"digite seu salario: \"))\n",
        "sexo = input(\"seu sexo('f' para feminino e 'm' para masculino): \")\n",
        "estado = input(\"Estadio Civil(s,v,c, ou d): \")\n",
        "\n",
        "while len(nome1) <= 4:\n",
        "  nome1 = input(\"Nome precisa de mais de 4 caracteres: \")\n",
        "\n",
        "while len(str(idade)) (idade < 0) or (idade > 150):\n",
        "  idade = int(input(\"idade maior que 0 e menor que 150: \"))\n",
        "\n",
        "while len(salario) > 0:\n",
        "  salario = float(input(\"Salario deve ser maior que 0: \"))\n",
        "\n",
        "while len(sexo!= 'f') and (sexo!= 'm'):\n",
        "  input(\"Sexo ('f' para feminino e 'm' para masculino): \")\n",
        "\n",
        "while (estado!= 's') and (estado!='v') and (estado!='v') and (estado!='d'):\n",
        "  input(\"Estado civil: \")"
      ]
    },
    {
      "cell_type": "code",
      "execution_count": null,
      "metadata": {
        "id": "b7B6nzTbMhgd"
      },
      "outputs": [],
      "source": [
        "print(\"ola eu calvo\") #O PRINT SERVE PARA IMPRIMIR, OU SEJA, MOSTRAR UMA INFORMAÇÃO NA TELA."
      ]
    },
    {
      "cell_type": "code",
      "execution_count": null,
      "metadata": {
        "id": "hpYdgFmEo1Zd"
      },
      "outputs": [],
      "source": [
        "xu = [\"luccas\", \"cauan\"]\n",
        "\n",
        "print (xu)\n"
      ]
    },
    {
      "cell_type": "code",
      "execution_count": null,
      "metadata": {
        "id": "TgPtoNNgpApb"
      },
      "outputs": [],
      "source": [
        "numero1 = float(input(\"Digite um numero: \")) \n",
        "numero2 = float(input(\"Digite o segundo numero: \"))\n",
        "\n",
        "resultado = numero1 + numero2\n",
        "\n",
        "print(resultado)"
      ]
    },
    {
      "cell_type": "code",
      "execution_count": null,
      "metadata": {
        "id": "NKe0S7e6peAR"
      },
      "outputs": [],
      "source": [
        "nota1 = float(input(\"Sua primeira nota: \"))\n",
        "nota2 = float(input(\"Sua segunda nota: \"))\n",
        "nota3 = float(input(\"Sua terceira nota: \"))\n",
        "nota4 = float(input(\"Sua quarta nota: \"))\n",
        "\n",
        "media = (nota1+nota2+nota3+nota4)/4\n",
        "\n",
        "print(f\"A média é {media}\")\n",
        "# format = formatar o meu texto para receber variaveis"
      ]
    },
    {
      "cell_type": "code",
      "execution_count": null,
      "metadata": {
        "id": "BddmwbifqD44"
      },
      "outputs": [],
      "source": [
        "#20cm / 100 = 0,2m\n",
        "#2m * 100 = 200cm\n",
        "\n",
        "#metros para centimetros\n",
        "# 1cm * 100 = M\n",
        "# 300cm * 3m = M\n",
        "\n",
        "\n",
        "medida = float(input(\"Digite a medida em metros que será transformada em centimetros: \"))\n",
        "\n",
        "centimetros = (f\"a medida em centimetros é : ({medida / 100} m)\")\n",
        "\n",
        "print(centimetros)"
      ]
    },
    {
      "cell_type": "code",
      "execution_count": null,
      "metadata": {
        "id": "eU0TWEiErEHf"
      },
      "outputs": [],
      "source": [
        "raio = float(input(\"Digite o raio do circulo(em metros) \"))\n",
        "\n",
        "print(f\"A area é: {(raio**2) * 3.14} m\")"
      ]
    },
    {
      "cell_type": "code",
      "execution_count": null,
      "metadata": {
        "id": "GDjDajMirpb3"
      },
      "outputs": [],
      "source": [
        "q = float(input(\"Digite o tamanho da parede do quadrado: \"))\n",
        "print(f\"A area do quadrado é: {q*q}, e o dobro dessa area é {(q*q)*2}\")"
      ]
    },
    {
      "cell_type": "code",
      "execution_count": null,
      "metadata": {
        "id": "RJHkm2MBuC76"
      },
      "outputs": [],
      "source": [
        "#DISMENBRAR O QUANTO A PESSOA GANHA POR MÊS\n",
        "# calcular quanto ele ganha por hora (20)\n",
        "# calcular quanto ele ganha por dia (hora * ganho por hora) (20x8hrs)\n",
        "# ver quantos dias ele trabalha por semana (de 1 à 7) \n",
        "# calcular quanto ele ganha por semana (ver quantos dias ele trabalha por semana e multiplicar por quantas semana ele trabalha no mês) (5*4)\n",
        "# calcular quanto ele ganha por mês (salario semanal * 4) (ganho por dia * dias do mês)\n",
        "\n",
        "\n",
        "# o = significa atribuição\n",
        "\n",
        "hora = float(input(\"quanto que eu ganho por hora em reais: \")) #20\n",
        "hora_salariodia = int(input(\"Quantas horas voce trabalha por dia: \")) #4\n",
        "salariodia = hora * hora_salariodia # vai mostrar o quanto eu ganho por dia\n",
        "\n",
        "diasemana = int(input(\"Quantos dias da semana você trabalha: \")) #6\n",
        "semana = int(input(\"Quantas semanas você trabalha por mês: \")) #4\n",
        "\n",
        "diasmes = diasemana * semana\n",
        "\n",
        "salariomes = salariodia * diasmes\n",
        "\n",
        "print(f\"O salario dele no final o mês será R${(salariomes):,.2f}\")"
      ]
    },
    {
      "cell_type": "code",
      "source": [
        "nomes = [\"luccas\", \"ana\", \"cauan\", \"vitor\", \"laura\"]\n",
        "\n",
        "if nomes == \"luccas\":\n",
        "  print (\"Nome verdadeiro!\")"
      ],
      "metadata": {
        "id": "QsMrPTb8dvak"
      },
      "execution_count": 34,
      "outputs": []
    },
    {
      "cell_type": "code",
      "source": [
        "while True: \n",
        "    hora = int(input(\"Salario por hora: \"))\n",
        "    horatrabalho = int(input(\"Quantas horas por dia você trabalha: \"))\n",
        "    salariodia = hora * horatrabalho\n",
        "    print(f\"Seu6 salario diario será R$ {salariodia:,.2f}\")\n",
        "\n",
        "    #semanal\n",
        "\n",
        "    diasemana = int(input(\"Quantos dias da semana você trabalha: \"))\n",
        "    salariosemana = diasemana * salariodia\n",
        "    print(f\"Seu salario semanal será de aproximadamente R$: {salariosemana:,.2f}\")\n",
        "    #mensal\n",
        "\n",
        "    salariosemanal = int(input(\"Quantas semanas por mês você trabalha: \"))\n",
        "    salariomes = salariosemanal * salariosemana\n",
        "    print(f\"Seu salario mensal será de aproximadamente R$: {salariomes:,.2f}\")\n",
        "\n",
        "    if salariomes<=3000.00:\n",
        "        print(\"Salario classe baixa\")\n",
        "\n",
        "    elif (salariomes<=7000):\n",
        "        print(\"Salario classe média\")\n",
        "\n",
        "    else:\n",
        "        print(\"Salario Classe Alta\")"
      ],
      "metadata": {
        "id": "dWrHp3MWw7UV"
      },
      "execution_count": null,
      "outputs": []
    },
    {
      "cell_type": "code",
      "source": [
        "def mediax(x, y):    \n",
        "   return (x + y) / 2  \n",
        "   while True:      \n",
        "     nome = input(\"Nome do aluno: \")     \n",
        "     rgm =  int(input(\"Informe o RGM:\"))     \n",
        "     ano = int(input(\"Informe o ano: \"))     \n",
        "     curso = input(\"Informe o curso: \")     \n",
        "     print(\"Aluno:\", nome, \"RGM:\", rgm, \"Ano:\", ano, \"Curso:\", curso,)     \n",
        "     nota1 = float(input('Entre com a primeira nota: '))     \n",
        "     nota2 = float(input('Entre com a segunda nota: '))     \n",
        "     media = mediax(nota1, nota2)     print(media)         if media < 3:         print('aluno reprovado')     elif media <= 5:         print ('aluno em recuperação')     else:         print(\"aluno aprovado\")          if input('para sair digite (FIM) para continuar (ENTER): ') == 'FIM':        break"
      ],
      "metadata": {
        "id": "43XJHm0rx2Vu"
      },
      "execution_count": null,
      "outputs": []
    },
    {
      "cell_type": "code",
      "source": [
        "#Upper = deixar tudo maiusculo\n",
        "#append = para guardar informações\n",
        "#while = repetir enquanto(for verdadeiro, sua informação for coerente com a resposta do while)\n",
        "#for enquanto a informação for verdadeia\n",
        "#if = enquanto a informação for verdadeira \n",
        "#else = se nao executar IF, execute ELSE\n",
        "#elif = executar dps do IF\n"
      ],
      "metadata": {
        "id": "GFqsye4M2GYv"
      },
      "execution_count": null,
      "outputs": []
    }
  ],
  "metadata": {
    "colab": {
      "collapsed_sections": [],
      "name": "Untitled",
      "provenance": [],
      "authorship_tag": "ABX9TyPEP+8fzduLVa+TVhRXj5dH",
      "include_colab_link": true
    },
    "kernelspec": {
      "display_name": "Python 3",
      "name": "python3"
    },
    "language_info": {
      "name": "python"
    }
  },
  "nbformat": 4,
  "nbformat_minor": 0
}