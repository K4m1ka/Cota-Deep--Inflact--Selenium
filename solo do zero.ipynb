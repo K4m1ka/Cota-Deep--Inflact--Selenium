{
 "cells": [
  {
   "cell_type": "code",
   "execution_count": 1,
   "metadata": {},
   "outputs": [],
   "source": [
    "#Importações\n",
    "from selenium import webdriver\n",
    "from selenium.webdriver.common.keys import Keys\n",
    "from selenium.webdriver.common.by import By\n",
    "import pandas as pd\n",
    "import pyautogui\n",
    "import pyperclip\n",
    "import time"
   ]
  },
  {
   "cell_type": "code",
   "execution_count": 2,
   "metadata": {},
   "outputs": [
    {
     "data": {
      "text/plain": [
       "'5.4021'"
      ]
     },
     "metadata": {},
     "output_type": "display_data"
    },
    {
     "data": {
      "text/plain": [
       "'6.020073229'"
      ]
     },
     "metadata": {},
     "output_type": "display_data"
    },
    {
     "data": {
      "text/plain": [
       "'311.74'"
      ]
     },
     "metadata": {},
     "output_type": "display_data"
    }
   ],
   "source": [
    "#Abrir um novo navegador e pesquisar as cotações\n",
    "web = webdriver.Chrome()\n",
    "\n",
    "web.get(\"https://www.google.com.br/\")\n",
    "web.find_element(By.XPATH, '/html/body/div[1]/div[3]/form/div[1]/div[1]/div[1]/div/div[2]/input').send_keys(\"Cotação dolar\")\n",
    "web.find_element(By.XPATH, '/html/body/div[1]/div[3]/form/div[1]/div[1]/div[1]/div/div[2]/input').send_keys(Keys.ENTER)\n",
    "cotacaodolar = web.find_element(By.XPATH, '//*[@id=\"knowledge-currency__updatable-data-column\"]/div[1]/div[2]/span[1]').get_attribute(\"data-value\")\n",
    "display(cotacaodolar)\n",
    "\n",
    "web.get(\"https://www.google.com.br/\")\n",
    "web.find_element(By.XPATH, '/html/body/div[1]/div[3]/form/div[1]/div[1]/div[1]/div/div[2]/input').send_keys(\"Cotação euro\")\n",
    "web.find_element(By.XPATH, '/html/body/div[1]/div[3]/form/div[1]/div[1]/div[1]/div/div[2]/input').send_keys(Keys.ENTER)\n",
    "cotacaoeuro = web.find_element(By.XPATH, '//*[@id=\"knowledge-currency__updatable-data-column\"]/div[1]/div[2]/span[1]').get_attribute(\"data-value\")\n",
    "display(cotacaoeuro)\n",
    "\n",
    "web.get(\"https://www.melhorcambio.com/ouro-hoje\")\n",
    "cotacaoouro = web.find_element(By.XPATH, '//*[@id=\"comercial\"]').get_attribute(\"value\")\n",
    "cotacaoouro = cotacaoouro.replace(\",\", \".\")\n",
    "display(cotacaoouro)\n",
    "\n",
    "web.quit()\n"
   ]
  },
  {
   "cell_type": "code",
   "execution_count": 3,
   "metadata": {},
   "outputs": [],
   "source": [
    "#Pegar essas cotações e atualizar a base de dados\n",
    "tabela = pd.read_excel(\"Produtos.xlsx\")\n",
    "\n",
    "\n",
    "tabela.loc[tabela[\"Moeda\"]==\"Dólar\" , \"Cotação\"] = float(cotacaodolar)\n",
    "tabela.loc[tabela[\"Moeda\"]==\"Euro\" , \"Cotação\"] = float(cotacaoeuro)\n",
    "tabela.loc[tabela[\"Moeda\"]==\"Ouro\" , \"Cotação\"] = float(cotacaoouro)\n"
   ]
  },
  {
   "cell_type": "code",
   "execution_count": 4,
   "metadata": {},
   "outputs": [
    {
     "data": {
      "text/html": [
       "<div>\n",
       "<style scoped>\n",
       "    .dataframe tbody tr th:only-of-type {\n",
       "        vertical-align: middle;\n",
       "    }\n",
       "\n",
       "    .dataframe tbody tr th {\n",
       "        vertical-align: top;\n",
       "    }\n",
       "\n",
       "    .dataframe thead th {\n",
       "        text-align: right;\n",
       "    }\n",
       "</style>\n",
       "<table border=\"1\" class=\"dataframe\">\n",
       "  <thead>\n",
       "    <tr style=\"text-align: right;\">\n",
       "      <th></th>\n",
       "      <th>Produtos</th>\n",
       "      <th>Preço Original</th>\n",
       "      <th>Moeda</th>\n",
       "      <th>Cotação</th>\n",
       "      <th>Preço de Compra</th>\n",
       "      <th>Margem</th>\n",
       "      <th>Preço de Venda</th>\n",
       "    </tr>\n",
       "  </thead>\n",
       "  <tbody>\n",
       "    <tr>\n",
       "      <th>0</th>\n",
       "      <td>Câmera Canon</td>\n",
       "      <td>999.99</td>\n",
       "      <td>Dólar</td>\n",
       "      <td>5.402100</td>\n",
       "      <td>5402.045979</td>\n",
       "      <td>1.40</td>\n",
       "      <td>7562.864371</td>\n",
       "    </tr>\n",
       "    <tr>\n",
       "      <th>1</th>\n",
       "      <td>Carro Renault</td>\n",
       "      <td>4500.00</td>\n",
       "      <td>Euro</td>\n",
       "      <td>6.020073</td>\n",
       "      <td>27090.329531</td>\n",
       "      <td>2.00</td>\n",
       "      <td>54180.659061</td>\n",
       "    </tr>\n",
       "    <tr>\n",
       "      <th>2</th>\n",
       "      <td>Notebook Dell</td>\n",
       "      <td>899.99</td>\n",
       "      <td>Dólar</td>\n",
       "      <td>5.402100</td>\n",
       "      <td>4861.835979</td>\n",
       "      <td>1.70</td>\n",
       "      <td>8265.121164</td>\n",
       "    </tr>\n",
       "    <tr>\n",
       "      <th>3</th>\n",
       "      <td>IPhone</td>\n",
       "      <td>799.00</td>\n",
       "      <td>Dólar</td>\n",
       "      <td>5.402100</td>\n",
       "      <td>4316.277900</td>\n",
       "      <td>1.70</td>\n",
       "      <td>7337.672430</td>\n",
       "    </tr>\n",
       "    <tr>\n",
       "      <th>4</th>\n",
       "      <td>Carro Fiat</td>\n",
       "      <td>3000.00</td>\n",
       "      <td>Euro</td>\n",
       "      <td>6.020073</td>\n",
       "      <td>18060.219687</td>\n",
       "      <td>1.90</td>\n",
       "      <td>34314.417405</td>\n",
       "    </tr>\n",
       "    <tr>\n",
       "      <th>5</th>\n",
       "      <td>Celular Xiaomi</td>\n",
       "      <td>480.48</td>\n",
       "      <td>Dólar</td>\n",
       "      <td>5.402100</td>\n",
       "      <td>2595.601008</td>\n",
       "      <td>2.00</td>\n",
       "      <td>5191.202016</td>\n",
       "    </tr>\n",
       "    <tr>\n",
       "      <th>6</th>\n",
       "      <td>Joia 20g</td>\n",
       "      <td>20.00</td>\n",
       "      <td>Ouro</td>\n",
       "      <td>311.740000</td>\n",
       "      <td>6234.800000</td>\n",
       "      <td>1.15</td>\n",
       "      <td>7170.020000</td>\n",
       "    </tr>\n",
       "  </tbody>\n",
       "</table>\n",
       "</div>"
      ],
      "text/plain": [
       "         Produtos  Preço Original  Moeda     Cotação  Preço de Compra  Margem  \\\n",
       "0    Câmera Canon          999.99  Dólar    5.402100      5402.045979    1.40   \n",
       "1   Carro Renault         4500.00   Euro    6.020073     27090.329531    2.00   \n",
       "2   Notebook Dell          899.99  Dólar    5.402100      4861.835979    1.70   \n",
       "3          IPhone          799.00  Dólar    5.402100      4316.277900    1.70   \n",
       "4      Carro Fiat         3000.00   Euro    6.020073     18060.219687    1.90   \n",
       "5  Celular Xiaomi          480.48  Dólar    5.402100      2595.601008    2.00   \n",
       "6        Joia 20g           20.00   Ouro  311.740000      6234.800000    1.15   \n",
       "\n",
       "   Preço de Venda  \n",
       "0     7562.864371  \n",
       "1    54180.659061  \n",
       "2     8265.121164  \n",
       "3     7337.672430  \n",
       "4    34314.417405  \n",
       "5     5191.202016  \n",
       "6     7170.020000  "
      ]
     },
     "metadata": {},
     "output_type": "display_data"
    }
   ],
   "source": [
    "#calcular a base\n",
    "tabela[\"Preço de Compra\"] = tabela[\"Preço Original\"] * tabela[\"Cotação\"]\n",
    "tabela[\"Preço de Venda\"] = tabela[\"Preço de Compra\"] * tabela[\"Margem\"]\n",
    "\n",
    "display(tabela)"
   ]
  },
  {
   "cell_type": "code",
   "execution_count": 5,
   "metadata": {},
   "outputs": [
    {
     "name": "stdout",
     "output_type": "stream",
     "text": [
      "R$ 68,561 Valor da compra para revenda\n",
      "R$ 124,022 Valor no fim do mês\n",
      "Porcentagem de lucro : 0.81 %\n",
      "RS 55,461 Esse foi o lucro \n"
     ]
    }
   ],
   "source": [
    "#salvar tabela\n",
    "\n",
    "tabela.to_excel(\"ProdutoSolo.xlsx\")\n",
    "\n",
    "#criar variantes para indicar o lucro\n",
    "compra = tabela[\"Preço de Compra\"].sum()\n",
    "compraform = \"R$ \" f\"{compra:,.0f}\" \" Valor da compra para revenda\"\n",
    "print (compraform)\n",
    "\n",
    "venda = tabela[\"Preço de Venda\"].sum()\n",
    "vendaform = \"R$ \" f\"{venda:,.0f}\" \" Valor no fim do mês\"\n",
    "print (vendaform)\n",
    "\n",
    "lucro = venda - compra\n",
    "lucroporcentagem = lucro / compra\n",
    "porcentagem1 = round((lucroporcentagem), 2)\n",
    "porcentagem = (f'Porcentagem de lucro : {porcentagem1} %')\n",
    "print(porcentagem)\n",
    "\n",
    "lucro2 = \"RS \" f\"{lucro:,.0f}\" \" Esse foi o lucro \" \n",
    "print (lucro2)\n",
    "\n"
   ]
  },
  {
   "cell_type": "code",
   "execution_count": 6,
   "metadata": {},
   "outputs": [
    {
     "name": "stdout",
     "output_type": "stream",
     "text": [
      "sixty-eight thousand, five hundred and sixty-one\n",
      "one hundred and twenty-four thousand and twenty-two\n",
      "fifty-five thousand, four hundred and sixty-one\n",
      "zero point eight one\n"
     ]
    }
   ],
   "source": [
    "#atualizar os numeros por extenso (usaremos o inflact)\n",
    "import inflect\n",
    "\n",
    "p = inflect.engine()\n",
    "\n",
    "words = p.number_to_words(compraform)\n",
    "words1 = p.number_to_words(vendaform)\n",
    "words2 = p.number_to_words(lucro2)\n",
    "words3 = p.number_to_words(porcentagem)\n",
    "\n",
    "print (words)\n",
    "print (words1)\n",
    "print (words2)\n",
    "print (words3)\n",
    "\n"
   ]
  },
  {
   "cell_type": "code",
   "execution_count": 7,
   "metadata": {},
   "outputs": [
    {
     "name": "stdout",
     "output_type": "stream",
     "text": [
      "sessenta e oito mil, quinhentos e sessenta e um\n",
      "cento e vinte e quatro mil e vinte e dois\n",
      "cinqüenta e cinco mil, quatrocentos e sessenta e um\n",
      "zero vírgula oito um\n"
     ]
    }
   ],
   "source": [
    "#Traduzir o texto extenso\n",
    "from deep_translator import GoogleTranslator\n",
    "\n",
    "tr1 = GoogleTranslator(source='auto', target='portuguese').translate(words)\n",
    "tr2 = GoogleTranslator(source='auto', target='portuguese').translate(words1)\n",
    "tr3 = GoogleTranslator(source='auto', target='portuguese').translate(words2)\n",
    "tr4 = GoogleTranslator(source='auto', target='portuguese').translate(words3)\n",
    "\n",
    "print (tr1)\n",
    "print (tr2)\n",
    "print (tr3)\n",
    "print (tr4)"
   ]
  },
  {
   "cell_type": "code",
   "execution_count": 11,
   "metadata": {},
   "outputs": [],
   "source": [
    "#enviar email automatico\n",
    "\n",
    "texto = f\"\"\"\n",
    "Olá chefe, atualizei os dados das ultimas vendas, estao aqui\n",
    "\n",
    "{compraform}\n",
    "{tr1}\n",
    "\n",
    "{vendaform}\n",
    "{tr2}\n",
    "\n",
    "{lucro2}\n",
    "{tr3}\n",
    "\n",
    "{porcentagem}\n",
    "{tr4}\n",
    "\n",
    "Atenciosamente, Luccas Souza\n",
    "\"\"\"\n",
    "\n",
    "web = webdriver.Chrome()\n",
    "\n",
    "web.get(\"https://login.live.com/\")\n",
    "web.find_element(By.XPATH, '//*[@id=\"i0116\"]').send_keys(\"luccasmelim@hotmail.com\")\n",
    "web.find_element(By.XPATH, '//*[@id=\"idSIButton9\"]').click()\n",
    "web.find_element(By.XPATH, '//*[@id=\"i0118\"]').send_keys(\"letycia10\")\n",
    "time.sleep(2)\n",
    "pyautogui.click(x=647, y=538)\n",
    "web.find_element(By.XPATH, '//*[@id=\"lightbox\"]/div[3]/div/div[2]/div/div[3]/div[1]/div/label/span').click()\n",
    "web.find_element(By.XPATH, '//*[@id=\"idSIButton9\"]').click()\n",
    "\n",
    "web.get('https://outlook.live.com/mail/0/')\n",
    "\n",
    "time.sleep(10)\n",
    "\n",
    "pyautogui.click(x=197, y=233)\n",
    "\n",
    "time.sleep(1.3)\n",
    "\n",
    "pyperclip.copy(\"luccasmelim@yahoo.com.br\")\n",
    "pyautogui.hotkey(\"Ctrl\",\"v\")\n",
    "pyautogui.press(\"Tab\")\n",
    "pyperclip.copy(\"Olá chefe, está aqui os relatórios atualizados das vendas\")\n",
    "pyautogui.hotkey(\"ctrl\",\"v\")\n",
    "pyautogui.press(\"Tab\")\n",
    "pyperclip.copy(f\"{texto}\")\n",
    "pyautogui.hotkey(\"Ctrl\",\"v\")\n",
    "pyautogui.hotkey(\"ctrl\",\"enter\")\n",
    "\n",
    "web.quit()"
   ]
  },
  {
   "cell_type": "code",
   "execution_count": 12,
   "metadata": {},
   "outputs": [],
   "source": [
    "#provar que chegou o email\n",
    "\n",
    "pyautogui.PAUSE = 1\n",
    "\n",
    "pyautogui.press(\"win\")\n",
    "pyautogui.write(\"chrome\")\n",
    "pyautogui.press(\"enter\")\n",
    "pyperclip.copy(\"https://mail.yahoo.com/\")\n",
    "pyautogui.hotkey(\"ctrl\", \"v\")\n",
    "pyautogui.press(\"enter\")\n",
    "\n",
    "time.sleep(2)\n",
    "\n",
    "pyautogui.click(x=538, y=313)"
   ]
  },
  {
   "cell_type": "code",
   "execution_count": null,
   "metadata": {},
   "outputs": [],
   "source": []
  }
 ],
 "metadata": {
  "kernelspec": {
   "display_name": "Python 3",
   "language": "python",
   "name": "python3"
  },
  "language_info": {
   "codemirror_mode": {
    "name": "ipython",
    "version": 3
   },
   "file_extension": ".py",
   "mimetype": "text/x-python",
   "name": "python",
   "nbconvert_exporter": "python",
   "pygments_lexer": "ipython3",
   "version": "3.8.8"
  }
 },
 "nbformat": 4,
 "nbformat_minor": 4
}
